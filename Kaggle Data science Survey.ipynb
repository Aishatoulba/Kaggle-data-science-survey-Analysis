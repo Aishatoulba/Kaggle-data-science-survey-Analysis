{
 "cells": [
  {
   "cell_type": "markdown",
   "id": "248d888b",
   "metadata": {},
   "source": [
    "## Table of Contents\n",
    "\n",
    "* [Scenario](#chapter1)\n",
    "* [About the project](#chapter2)\n",
    "\n",
    "* [1.Data Inspection](#chapter3)\n",
    "    * [1.1 Data Understanding](#section_3_1)\n",
    "    * [1.2 Checking the data types](#section_3_2)\n",
    "    * [1.3 Checking the missing values](#section_3_3)\n",
    "    \n",
    "* [2.Exploratory Data Analysis](#chapter4)\n",
    "    * [1.Users of each Tool](#section_4_1)\n",
    "    * [2.Counting the users of each tool](#section_4_2)\n",
    "    * [3.Plotting the most popular tools](#section_4_3)\n",
    "    * [4.R vs Python Debate](#section_4_4)\n",
    "    * [5.Plotting R vs Python users](#section_4_5)\n",
    "    * [6.Language recommendations](#section_4_6)\n",
    "    * [7.Most Recommended language by preferred language](#section_4_7)\n",
    "    * [8.Number of survey respondents by Employer Industry](#section_4_8)\n",
    "    * [9.Top 5 used Algorithms](#section_4_9)\n",
    "    * [10.Top 5 used Algorithms by R lovers](#section_4_10)\n",
    "    * [11.Top 5 used Algorithms by Python lovers](#section_4_11)  "
   ]
  },
  {
   "cell_type": "markdown",
   "id": "7287548b",
   "metadata": {},
   "source": [
    "## 👀 Scenario <a class=\"anchor\" id=\"chapter1\">\n",
    "Throughout the world of data science, there are many languages and tools that can be used to complete a given task.Although , we are able to use the tool we prefer, it is often important to work with similar platforms so that we can share our code with one another."
   ]
  },
  {
   "cell_type": "markdown",
   "id": "1138fa89",
   "metadata": {},
   "source": [
    "## ❓  About the project <a class=\"anchor\" id=\"chapter2\">\n",
    "In this project , we will be analyzing a survey dataset from kaggle about which tools and languages professionals use in their day-to-day work. The dataset includes responses from over 10,000 people that write code to analyze data in their daily work."
   ]
  },
  {
   "cell_type": "markdown",
   "id": "2784b7ba",
   "metadata": {},
   "source": [
    "## 🔎 1. Data Inspection <a class=\"anchor\" id=\"chapter3\">"
   ]
  },
  {
   "cell_type": "code",
   "execution_count": 2,
   "id": "99e2e40f",
   "metadata": {},
   "outputs": [
    {
     "name": "stderr",
     "output_type": "stream",
     "text": [
      "Warning message:\n",
      "\"package 'tidyverse' was built under R version 3.6.3\"\n",
      "-- \u001b[1mAttaching packages\u001b[22m ------------------------------------------------------------------------------- tidyverse 1.3.1 --\n",
      "\n",
      "\u001b[32mv\u001b[39m \u001b[34mggplot2\u001b[39m 3.3.6     \u001b[32mv\u001b[39m \u001b[34mpurrr  \u001b[39m 0.3.4\n",
      "\u001b[32mv\u001b[39m \u001b[34mtibble \u001b[39m 3.1.1     \u001b[32mv\u001b[39m \u001b[34mdplyr  \u001b[39m 1.0.6\n",
      "\u001b[32mv\u001b[39m \u001b[34mtidyr  \u001b[39m 1.1.3     \u001b[32mv\u001b[39m \u001b[34mstringr\u001b[39m 1.4.0\n",
      "\u001b[32mv\u001b[39m \u001b[34mreadr  \u001b[39m 1.4.0     \u001b[32mv\u001b[39m \u001b[34mforcats\u001b[39m 0.5.1\n",
      "\n",
      "Warning message:\n",
      "\"package 'tibble' was built under R version 3.6.3\"\n",
      "Warning message:\n",
      "\"package 'tidyr' was built under R version 3.6.3\"\n",
      "Warning message:\n",
      "\"package 'readr' was built under R version 3.6.3\"\n",
      "Warning message:\n",
      "\"package 'purrr' was built under R version 3.6.3\"\n",
      "Warning message:\n",
      "\"package 'dplyr' was built under R version 3.6.3\"\n",
      "Warning message:\n",
      "\"package 'forcats' was built under R version 3.6.3\"\n",
      "-- \u001b[1mConflicts\u001b[22m ---------------------------------------------------------------------------------- tidyverse_conflicts() --\n",
      "\u001b[31mx\u001b[39m \u001b[34mdplyr\u001b[39m::\u001b[32mfilter()\u001b[39m masks \u001b[34mstats\u001b[39m::filter()\n",
      "\u001b[31mx\u001b[39m \u001b[34mdplyr\u001b[39m::\u001b[32mlag()\u001b[39m    masks \u001b[34mstats\u001b[39m::lag()\n",
      "\n"
     ]
    }
   ],
   "source": [
    "# Loading the libraries \n",
    "library(tidyverse)\n",
    "library(tidyr)\n",
    "library(dplyr)\n",
    "\n",
    "# Loading the data \n",
    "responses <- read.csv(\"C:/Users/Atolb/Downloads/kagglesurvey.csv\")\n"
   ]
  },
  {
   "cell_type": "markdown",
   "id": "ae29fe43",
   "metadata": {},
   "source": [
    "#### 1. Data Understanding <a class=\"anchor\" id=\"section_3_1\">"
   ]
  },
  {
   "cell_type": "code",
   "execution_count": 3,
   "id": "b28ff8f0",
   "metadata": {},
   "outputs": [
    {
     "name": "stdout",
     "output_type": "stream",
     "text": [
      "Rows: 10,153\n",
      "Columns: 5\n",
      "$ Respondent                   \u001b[3m\u001b[90m<int>\u001b[39m\u001b[23m 1, 2, 3, 4, 5, 6, 7, 8, 9, 10, 11, 12, 13~\n",
      "$ WorkToolsSelect              \u001b[3m\u001b[90m<fct>\u001b[39m\u001b[23m \"Amazon Web services,Oracle Data Mining/ ~\n",
      "$ LanguageRecommendationSelect \u001b[3m\u001b[90m<fct>\u001b[39m\u001b[23m F#, Python, Python, Python, R, Python, Py~\n",
      "$ EmployerIndustry             \u001b[3m\u001b[90m<fct>\u001b[39m\u001b[23m Internet-based, Mix of fields, Technology~\n",
      "$ WorkAlgorithmsSelect         \u001b[3m\u001b[90m<fct>\u001b[39m\u001b[23m \"Neural Networks,Random Forests,RNNs\", \"B~\n"
     ]
    }
   ],
   "source": [
    "# getting a glimpse about the data \n",
    "glimpse(responses)"
   ]
  },
  {
   "cell_type": "markdown",
   "id": "76a5d357",
   "metadata": {},
   "source": [
    " <div align=\"center\">\n",
    "\n",
    "| Variable              | Description                                                                                   |\n",
    "|:----------------------|:----------------------------------------------------------------------------------------------|\n",
    "| Respondent            |  Responder Id  |\n",
    "| WorkToolsSelect              | The tools that the respondent use.              |\n",
    "| LanguageRecommendationSelect                   | The language recommended by the survey respondent                                  |\n",
    "| EmployerIndustry\t     |  The industry in which the employer operates.  |\n",
    "| WorkAlgorithmSelect   | The Algorithm chosen by the survey respondent |"
   ]
  },
  {
   "cell_type": "markdown",
   "id": "9a20e89b",
   "metadata": {},
   "source": [
    "#### 2. Checking the data types <a class=\"anchor\" id=\"section_3_2\">"
   ]
  },
  {
   "cell_type": "code",
   "execution_count": 4,
   "id": "9c495913",
   "metadata": {},
   "outputs": [
    {
     "data": {
      "text/html": [
       "<dl class=dl-horizontal>\n",
       "\t<dt>Respondent</dt>\n",
       "\t\t<dd>'integer'</dd>\n",
       "\t<dt>WorkToolsSelect</dt>\n",
       "\t\t<dd>'integer'</dd>\n",
       "\t<dt>LanguageRecommendationSelect</dt>\n",
       "\t\t<dd>'integer'</dd>\n",
       "\t<dt>EmployerIndustry</dt>\n",
       "\t\t<dd>'integer'</dd>\n",
       "\t<dt>WorkAlgorithmsSelect</dt>\n",
       "\t\t<dd>'integer'</dd>\n",
       "</dl>\n"
      ],
      "text/latex": [
       "\\begin{description*}\n",
       "\\item[Respondent] 'integer'\n",
       "\\item[WorkToolsSelect] 'integer'\n",
       "\\item[LanguageRecommendationSelect] 'integer'\n",
       "\\item[EmployerIndustry] 'integer'\n",
       "\\item[WorkAlgorithmsSelect] 'integer'\n",
       "\\end{description*}\n"
      ],
      "text/markdown": [
       "Respondent\n",
       ":   'integer'WorkToolsSelect\n",
       ":   'integer'LanguageRecommendationSelect\n",
       ":   'integer'EmployerIndustry\n",
       ":   'integer'WorkAlgorithmsSelect\n",
       ":   'integer'\n",
       "\n"
      ],
      "text/plain": [
       "                  Respondent              WorkToolsSelect \n",
       "                   \"integer\"                    \"integer\" \n",
       "LanguageRecommendationSelect             EmployerIndustry \n",
       "                   \"integer\"                    \"integer\" \n",
       "        WorkAlgorithmsSelect \n",
       "                   \"integer\" "
      ]
     },
     "metadata": {},
     "output_type": "display_data"
    }
   ],
   "source": [
    "sapply(responses,typeof)"
   ]
  },
  {
   "cell_type": "markdown",
   "id": "e8a4ba5d",
   "metadata": {},
   "source": [
    "We can see that 4 out of the 5 columns have an incorrect data type. \n",
    "These columns are : \n",
    "* WorkToolsSelect \n",
    "* LanguageRecommendationSelect \n",
    "* EmployerIndustry \n",
    "* WorkAlgorithmSelect"
   ]
  },
  {
   "cell_type": "code",
   "execution_count": 5,
   "id": "6bc5d429",
   "metadata": {},
   "outputs": [],
   "source": [
    "responses$WorkToolsSelect <- as.character(responses$WorkToolsSelect)\n",
    "responses$LanguageRecommendationSelect <- as.character(responses$LanguageRecommendationSelect)\n",
    "responses$EmployerIndustry  <- as.character(responses$EmployerIndustry)\n",
    "responses$WorkAlgorithmsSelect <- as.character(responses$WorkAlgorithmsSelect)"
   ]
  },
  {
   "cell_type": "code",
   "execution_count": 6,
   "id": "f5192782",
   "metadata": {},
   "outputs": [
    {
     "name": "stdout",
     "output_type": "stream",
     "text": [
      "'data.frame':\t10153 obs. of  5 variables:\n",
      " $ Respondent                  : int  1 2 3 4 5 6 7 8 9 10 ...\n",
      " $ WorkToolsSelect             : chr  \"Amazon Web services,Oracle Data Mining/ Oracle R Enterprise,Perl\" \"Amazon Machine Learning,Amazon Web services,Cloudera,Hadoop/Hive/Pig,Impala,Java,Mathematica,MATLAB/Octave,Micr\"| __truncated__ \"C/C++,Jupyter notebooks,MATLAB/Octave,Python,R,TensorFlow\" \"Jupyter notebooks,Python,SQL,TensorFlow\" ...\n",
      " $ LanguageRecommendationSelect: chr  \"F#\" \"Python\" \"Python\" \"Python\" ...\n",
      " $ EmployerIndustry            : chr  \"Internet-based\" \"Mix of fields\" \"Technology\" \"Academic\" ...\n",
      " $ WorkAlgorithmsSelect        : chr  \"Neural Networks,Random Forests,RNNs\" \"Bayesian Techniques,Decision Trees,Random Forests,Regression/Logistic Regression\" \"Bayesian Techniques,CNNs,Ensemble Methods,Neural Networks,Regression/Logistic Regression,SVMs\" \"Bayesian Techniques,CNNs,Decision Trees,Gradient Boosted Machines,Neural Networks,Random Forests,Regression/Log\"| __truncated__ ...\n"
     ]
    }
   ],
   "source": [
    "str(responses)"
   ]
  },
  {
   "cell_type": "markdown",
   "id": "477c147c",
   "metadata": {},
   "source": [
    "It seems that the columns data types are now correct."
   ]
  },
  {
   "cell_type": "markdown",
   "id": "18acd8eb",
   "metadata": {},
   "source": [
    "#### 3. Checking the missing values <a class=\"anchor\" id=\"section_3_3\">"
   ]
  },
  {
   "cell_type": "code",
   "execution_count": 8,
   "id": "6392b792",
   "metadata": {},
   "outputs": [
    {
     "data": {
      "text/html": [
       "0"
      ],
      "text/latex": [
       "0"
      ],
      "text/markdown": [
       "0"
      ],
      "text/plain": [
       "[1] 0"
      ]
     },
     "metadata": {},
     "output_type": "display_data"
    }
   ],
   "source": [
    "sum(is.na(responses))"
   ]
  },
  {
   "cell_type": "markdown",
   "id": "a880b325",
   "metadata": {},
   "source": [
    "There are no missing values in the dataset :) "
   ]
  },
  {
   "cell_type": "markdown",
   "id": "469dcde6",
   "metadata": {},
   "source": [
    "## ⚙️ 2. Exploratory Data Analysis <a class=\"anchor\" id=\"chapter4\">"
   ]
  },
  {
   "cell_type": "code",
   "execution_count": 9,
   "id": "3192390a",
   "metadata": {},
   "outputs": [
    {
     "data": {
      "text/html": [
       "<table>\n",
       "<thead><tr><th scope=col>Respondent</th><th scope=col>WorkToolsSelect</th><th scope=col>LanguageRecommendationSelect</th><th scope=col>EmployerIndustry</th><th scope=col>WorkAlgorithmsSelect</th></tr></thead>\n",
       "<tbody>\n",
       "\t<tr><td>1                                                                                                                                                                                                                  </td><td>Amazon Web services,Oracle Data Mining/ Oracle R Enterprise,Perl                                                                                                                                                   </td><td>F#                                                                                                                                                                                                                 </td><td>Internet-based                                                                                                                                                                                                     </td><td>Neural Networks,Random Forests,RNNs                                                                                                                                                                                </td></tr>\n",
       "\t<tr><td>2                                                                                                                                                                                                                  </td><td>Amazon Machine Learning,Amazon Web services,Cloudera,Hadoop/Hive/Pig,Impala,Java,Mathematica,MATLAB/Octave,Microsoft Excel Data Mining,Microsoft SQL Server Data Mining,NoSQL,Python,R,SAS Base,SAS JMP,SQL,Tableau</td><td>Python                                                                                                                                                                                                             </td><td>Mix of fields                                                                                                                                                                                                      </td><td>Bayesian Techniques,Decision Trees,Random Forests,Regression/Logistic Regression                                                                                                                                   </td></tr>\n",
       "\t<tr><td>3                                                                                                                                                                                                                  </td><td>C/C++,Jupyter notebooks,MATLAB/Octave,Python,R,TensorFlow                                                                                                                                                          </td><td>Python                                                                                                                                                                                                             </td><td>Technology                                                                                                                                                                                                         </td><td>Bayesian Techniques,CNNs,Ensemble Methods,Neural Networks,Regression/Logistic Regression,SVMs                                                                                                                      </td></tr>\n",
       "</tbody>\n",
       "</table>\n"
      ],
      "text/latex": [
       "\\begin{tabular}{r|lllll}\n",
       " Respondent & WorkToolsSelect & LanguageRecommendationSelect & EmployerIndustry & WorkAlgorithmsSelect\\\\\n",
       "\\hline\n",
       "\t 1                                                                                                                                                                                                                   & Amazon Web services,Oracle Data Mining/ Oracle R Enterprise,Perl                                                                                                                                                    & F\\#                                                                                                                                                                                                                & Internet-based                                                                                                                                                                                                      & Neural Networks,Random Forests,RNNs                                                                                                                                                                                \\\\\n",
       "\t 2                                                                                                                                                                                                                   & Amazon Machine Learning,Amazon Web services,Cloudera,Hadoop/Hive/Pig,Impala,Java,Mathematica,MATLAB/Octave,Microsoft Excel Data Mining,Microsoft SQL Server Data Mining,NoSQL,Python,R,SAS Base,SAS JMP,SQL,Tableau & Python                                                                                                                                                                                                              & Mix of fields                                                                                                                                                                                                       & Bayesian Techniques,Decision Trees,Random Forests,Regression/Logistic Regression                                                                                                                                   \\\\\n",
       "\t 3                                                                                                                                                                                                                   & C/C++,Jupyter notebooks,MATLAB/Octave,Python,R,TensorFlow                                                                                                                                                           & Python                                                                                                                                                                                                              & Technology                                                                                                                                                                                                          & Bayesian Techniques,CNNs,Ensemble Methods,Neural Networks,Regression/Logistic Regression,SVMs                                                                                                                      \\\\\n",
       "\\end{tabular}\n"
      ],
      "text/markdown": [
       "\n",
       "| Respondent | WorkToolsSelect | LanguageRecommendationSelect | EmployerIndustry | WorkAlgorithmsSelect |\n",
       "|---|---|---|---|---|\n",
       "| 1                                                                                                                                                                                                                   | Amazon Web services,Oracle Data Mining/ Oracle R Enterprise,Perl                                                                                                                                                    | F#                                                                                                                                                                                                                  | Internet-based                                                                                                                                                                                                      | Neural Networks,Random Forests,RNNs                                                                                                                                                                                 |\n",
       "| 2                                                                                                                                                                                                                   | Amazon Machine Learning,Amazon Web services,Cloudera,Hadoop/Hive/Pig,Impala,Java,Mathematica,MATLAB/Octave,Microsoft Excel Data Mining,Microsoft SQL Server Data Mining,NoSQL,Python,R,SAS Base,SAS JMP,SQL,Tableau | Python                                                                                                                                                                                                              | Mix of fields                                                                                                                                                                                                       | Bayesian Techniques,Decision Trees,Random Forests,Regression/Logistic Regression                                                                                                                                    |\n",
       "| 3                                                                                                                                                                                                                   | C/C++,Jupyter notebooks,MATLAB/Octave,Python,R,TensorFlow                                                                                                                                                           | Python                                                                                                                                                                                                              | Technology                                                                                                                                                                                                          | Bayesian Techniques,CNNs,Ensemble Methods,Neural Networks,Regression/Logistic Regression,SVMs                                                                                                                       |\n",
       "\n"
      ],
      "text/plain": [
       "  Respondent\n",
       "1 1         \n",
       "2 2         \n",
       "3 3         \n",
       "  WorkToolsSelect                                                                                                                                                                                                    \n",
       "1 Amazon Web services,Oracle Data Mining/ Oracle R Enterprise,Perl                                                                                                                                                   \n",
       "2 Amazon Machine Learning,Amazon Web services,Cloudera,Hadoop/Hive/Pig,Impala,Java,Mathematica,MATLAB/Octave,Microsoft Excel Data Mining,Microsoft SQL Server Data Mining,NoSQL,Python,R,SAS Base,SAS JMP,SQL,Tableau\n",
       "3 C/C++,Jupyter notebooks,MATLAB/Octave,Python,R,TensorFlow                                                                                                                                                          \n",
       "  LanguageRecommendationSelect EmployerIndustry\n",
       "1 F#                           Internet-based  \n",
       "2 Python                       Mix of fields   \n",
       "3 Python                       Technology      \n",
       "  WorkAlgorithmsSelect                                                                         \n",
       "1 Neural Networks,Random Forests,RNNs                                                          \n",
       "2 Bayesian Techniques,Decision Trees,Random Forests,Regression/Logistic Regression             \n",
       "3 Bayesian Techniques,CNNs,Ensemble Methods,Neural Networks,Regression/Logistic Regression,SVMs"
      ]
     },
     "metadata": {},
     "output_type": "display_data"
    }
   ],
   "source": [
    "head(responses,3)"
   ]
  },
  {
   "cell_type": "markdown",
   "id": "effcfca5",
   "metadata": {},
   "source": [
    "#### 1.Users of each Tool <a class=\"anchor\" id=\"section_4_1\">\n",
    "We are interested in knowing how many people use each tool that of the tools that were listed in the column WorkToolsSelect. As we can see from the dataframe subset we have above , the respondents listed multiple tools that are each separated by a comma.\n",
    "Therefore , we need to separate out all of the tools used by each individual."
   ]
  },
  {
   "cell_type": "code",
   "execution_count": 10,
   "id": "46b0b3f7",
   "metadata": {},
   "outputs": [],
   "source": [
    "tools <- responses %>% \n",
    "mutate(work_tools = str_split(WorkToolsSelect,\",\")) %>% \n",
    "unnest(work_tools)"
   ]
  },
  {
   "cell_type": "code",
   "execution_count": 11,
   "id": "f5456490",
   "metadata": {},
   "outputs": [
    {
     "data": {
      "text/html": [
       "<table>\n",
       "<thead><tr><th scope=col>Respondent</th><th scope=col>WorkToolsSelect</th><th scope=col>LanguageRecommendationSelect</th><th scope=col>EmployerIndustry</th><th scope=col>WorkAlgorithmsSelect</th><th scope=col>work_tools</th></tr></thead>\n",
       "<tbody>\n",
       "\t<tr><td>1                                                               </td><td>Amazon Web services,Oracle Data Mining/ Oracle R Enterprise,Perl</td><td>F#                                                              </td><td>Internet-based                                                  </td><td>Neural Networks,Random Forests,RNNs                             </td><td>Amazon Web services                                             </td></tr>\n",
       "</tbody>\n",
       "</table>\n"
      ],
      "text/latex": [
       "\\begin{tabular}{r|llllll}\n",
       " Respondent & WorkToolsSelect & LanguageRecommendationSelect & EmployerIndustry & WorkAlgorithmsSelect & work\\_tools\\\\\n",
       "\\hline\n",
       "\t 1                                                                & Amazon Web services,Oracle Data Mining/ Oracle R Enterprise,Perl & F\\#                                                             & Internet-based                                                   & Neural Networks,Random Forests,RNNs                              & Amazon Web services                                             \\\\\n",
       "\\end{tabular}\n"
      ],
      "text/markdown": [
       "\n",
       "| Respondent | WorkToolsSelect | LanguageRecommendationSelect | EmployerIndustry | WorkAlgorithmsSelect | work_tools |\n",
       "|---|---|---|---|---|---|\n",
       "| 1                                                                | Amazon Web services,Oracle Data Mining/ Oracle R Enterprise,Perl | F#                                                               | Internet-based                                                   | Neural Networks,Random Forests,RNNs                              | Amazon Web services                                              |\n",
       "\n"
      ],
      "text/plain": [
       "  Respondent WorkToolsSelect                                                 \n",
       "1 1          Amazon Web services,Oracle Data Mining/ Oracle R Enterprise,Perl\n",
       "  LanguageRecommendationSelect EmployerIndustry\n",
       "1 F#                           Internet-based  \n",
       "  WorkAlgorithmsSelect                work_tools         \n",
       "1 Neural Networks,Random Forests,RNNs Amazon Web services"
      ]
     },
     "metadata": {},
     "output_type": "display_data"
    }
   ],
   "source": [
    "head(tools,1)"
   ]
  },
  {
   "cell_type": "markdown",
   "id": "30494fb3",
   "metadata": {},
   "source": [
    "#### 2.Counting the users of each tool <a class=\"anchor\" id=\"section_4_2\">"
   ]
  },
  {
   "cell_type": "code",
   "execution_count": 12,
   "id": "4df281ed",
   "metadata": {},
   "outputs": [
    {
     "data": {
      "text/html": [
       "<table>\n",
       "<thead><tr><th scope=col>work_tools</th><th scope=col>count</th></tr></thead>\n",
       "<tbody>\n",
       "\t<tr><td>Python           </td><td>6073             </td></tr>\n",
       "\t<tr><td>R                </td><td>4708             </td></tr>\n",
       "\t<tr><td>SQL              </td><td>4261             </td></tr>\n",
       "\t<tr><td>Jupyter notebooks</td><td>3206             </td></tr>\n",
       "\t<tr><td>TensorFlow       </td><td>2256             </td></tr>\n",
       "\t<tr><td>                 </td><td>2198             </td></tr>\n",
       "</tbody>\n",
       "</table>\n"
      ],
      "text/latex": [
       "\\begin{tabular}{r|ll}\n",
       " work\\_tools & count\\\\\n",
       "\\hline\n",
       "\t Python            & 6073             \\\\\n",
       "\t R                 & 4708             \\\\\n",
       "\t SQL               & 4261             \\\\\n",
       "\t Jupyter notebooks & 3206             \\\\\n",
       "\t TensorFlow        & 2256             \\\\\n",
       "\t                   & 2198             \\\\\n",
       "\\end{tabular}\n"
      ],
      "text/markdown": [
       "\n",
       "| work_tools | count |\n",
       "|---|---|\n",
       "| Python            | 6073              |\n",
       "| R                 | 4708              |\n",
       "| SQL               | 4261              |\n",
       "| Jupyter notebooks | 3206              |\n",
       "| TensorFlow        | 2256              |\n",
       "|                   | 2198              |\n",
       "\n"
      ],
      "text/plain": [
       "  work_tools        count\n",
       "1 Python            6073 \n",
       "2 R                 4708 \n",
       "3 SQL               4261 \n",
       "4 Jupyter notebooks 3206 \n",
       "5 TensorFlow        2256 \n",
       "6                   2198 "
      ]
     },
     "metadata": {},
     "output_type": "display_data"
    }
   ],
   "source": [
    "tool_count <- tools %>%\n",
    "group_by(work_tools) %>%\n",
    "summarise(count=n()) %>%\n",
    "arrange(desc(count))\n",
    "# printing the top 5 tools \n",
    "head(tool_count)"
   ]
  },
  {
   "cell_type": "markdown",
   "id": "7e5f34ef",
   "metadata": {},
   "source": [
    "#### 3.Plotting the most popular tools <a class=\"anchor\" id=\"section_4_3\">"
   ]
  },
  {
   "cell_type": "code",
   "execution_count": 13,
   "id": "71e67e43",
   "metadata": {},
   "outputs": [
    {
     "data": {
      "image/png": "[encoded data removed]",
      "text/plain": [
       "plot without title"
      ]
     },
     "metadata": {
      "image/png": {
       "height": 420,
       "width": 420
      }
     },
     "output_type": "display_data"
    }
   ],
   "source": [
    "ggplot(tool_count,aes(x=work_tools,y=count)) + \n",
    "    geom_bar(stat=\"identity\") +\n",
    "    theme(axis.text.x = element_text(angle = 90, \n",
    "                 vjust = 0.5,\n",
    "                 hjust = 1))"
   ]
  },
  {
   "cell_type": "markdown",
   "id": "0a16a918",
   "metadata": {},
   "source": [
    "We can see from the figure above that R and Python are the two most commonly used languages."
   ]
  },
  {
   "cell_type": "markdown",
   "id": "7547c876",
   "metadata": {},
   "source": [
    "#### 4. R vs Python Debate <a class=\"anchor\" id=\"section_4_4\">\n",
    "Although R and Python are the most commonly used languages , it's possible that many respondents use both R and Python. \n",
    "Let's look at how many people use R , Python and both tools."
   ]
  },
  {
   "cell_type": "code",
   "execution_count": 20,
   "id": "ef52f923",
   "metadata": {},
   "outputs": [],
   "source": [
    "debate_tools <- responses %>%\n",
    "mutate(language_preference = case_when(\n",
    "         str_detect(WorkToolsSelect,\"R\") & ! str_detect(WorkToolsSelect , \"Python\") ~ \"R\", \n",
    "         str_detect(WorkToolsSelect,\"Python\") & ! str_detect(WorkToolsSelect,\"R\") ~ \"Python\", \n",
    "         str_detect(WorkToolsSelect,\"R\") & str_detect(WorkToolsSelect , \"Python\") ~ \"Both\",\n",
    "    TRUE ~ \"neither\"))"
   ]
  },
  {
   "cell_type": "code",
   "execution_count": 21,
   "id": "6f0e6719",
   "metadata": {},
   "outputs": [
    {
     "data": {
      "text/html": [
       "<table>\n",
       "<thead><tr><th scope=col>language_preference</th><th scope=col>count</th></tr></thead>\n",
       "<tbody>\n",
       "\t<tr><td>Both   </td><td>3660   </td></tr>\n",
       "\t<tr><td>neither</td><td>2860   </td></tr>\n",
       "\t<tr><td>Python </td><td>2413   </td></tr>\n",
       "\t<tr><td>R      </td><td>1220   </td></tr>\n",
       "</tbody>\n",
       "</table>\n"
      ],
      "text/latex": [
       "\\begin{tabular}{r|ll}\n",
       " language\\_preference & count\\\\\n",
       "\\hline\n",
       "\t Both    & 3660   \\\\\n",
       "\t neither & 2860   \\\\\n",
       "\t Python  & 2413   \\\\\n",
       "\t R       & 1220   \\\\\n",
       "\\end{tabular}\n"
      ],
      "text/markdown": [
       "\n",
       "| language_preference | count |\n",
       "|---|---|\n",
       "| Both    | 3660    |\n",
       "| neither | 2860    |\n",
       "| Python  | 2413    |\n",
       "| R       | 1220    |\n",
       "\n"
      ],
      "text/plain": [
       "  language_preference count\n",
       "1 Both                3660 \n",
       "2 neither             2860 \n",
       "3 Python              2413 \n",
       "4 R                   1220 "
      ]
     },
     "metadata": {},
     "output_type": "display_data"
    }
   ],
   "source": [
    "debate_tools %>%\n",
    "group_by(language_preference) %>%\n",
    "summarise(count=n()) %>%\n",
    "arrange(desc(count))"
   ]
  },
  {
   "cell_type": "markdown",
   "id": "221e912c",
   "metadata": {},
   "source": [
    "13% of the respondents use R while around 24% use Python which indicates that Python is preferred over R. However around 37% of the respondents use both tools."
   ]
  },
  {
   "cell_type": "markdown",
   "id": "3a5ec249",
   "metadata": {},
   "source": [
    "#### 5. Plotting R vs Python users <a class=\"anchor\" id=\"section_4_5\">"
   ]
  },
  {
   "cell_type": "code",
   "execution_count": 28,
   "id": "59ecf102",
   "metadata": {},
   "outputs": [],
   "source": [
    "debate_plot <- debate_tools %>%\n",
    "group_by(language_preference) %>%\n",
    "summarise(count=n()) %>%\n",
    "filter(language_preference != \"neither\")"
   ]
  },
  {
   "cell_type": "code",
   "execution_count": 29,
   "id": "9a3ab2ab",
   "metadata": {},
   "outputs": [
    {
     "data": {
      "image/png": "[encoded data removed]",
      "text/plain": [
       "plot without title"
      ]
     },
     "metadata": {
      "image/png": {
       "height": 420,
       "width": 420
      }
     },
     "output_type": "display_data"
    }
   ],
   "source": [
    "ggplot(debate_plot , aes(x=language_preference,y=count)) + \n",
    "geom_bar(stat=\"identity\",fill=\"grey\")"
   ]
  },
  {
   "cell_type": "markdown",
   "id": "6e9b9977",
   "metadata": {},
   "source": [
    "#### 6.Language recommendations <a class=\"anchor\" id=\"section_4_6\">\n",
    "As we have seen before , the largest group of professionals program in both Python and R. But which language do they recommend to new learners. Do R lovers always recommend R?"
   ]
  },
  {
   "cell_type": "code",
   "execution_count": 34,
   "id": "bfc363d0",
   "metadata": {},
   "outputs": [
    {
     "name": "stderr",
     "output_type": "stream",
     "text": [
      "`summarise()` has grouped output by 'language_preference'. You can override using the `.groups` argument.\n",
      "\n"
     ]
    },
    {
     "data": {
      "text/html": [
       "<table>\n",
       "<thead><tr><th scope=col>language_preference</th><th scope=col>LanguageRecommendationSelect</th><th scope=col>count</th><th scope=col>row</th></tr></thead>\n",
       "<tbody>\n",
       "\t<tr><td>Both   </td><td>Python </td><td>1917   </td><td>1      </td></tr>\n",
       "\t<tr><td>Both   </td><td>R      </td><td> 912   </td><td>2      </td></tr>\n",
       "\t<tr><td>Both   </td><td>       </td><td> 591   </td><td>3      </td></tr>\n",
       "\t<tr><td>Both   </td><td>SQL    </td><td> 108   </td><td>4      </td></tr>\n",
       "\t<tr><td>neither</td><td>       </td><td>2348   </td><td>1      </td></tr>\n",
       "\t<tr><td>neither</td><td>Python </td><td> 196   </td><td>2      </td></tr>\n",
       "</tbody>\n",
       "</table>\n"
      ],
      "text/latex": [
       "\\begin{tabular}{r|llll}\n",
       " language\\_preference & LanguageRecommendationSelect & count & row\\\\\n",
       "\\hline\n",
       "\t Both    & Python  & 1917    & 1      \\\\\n",
       "\t Both    & R       &  912    & 2      \\\\\n",
       "\t Both    &         &  591    & 3      \\\\\n",
       "\t Both    & SQL     &  108    & 4      \\\\\n",
       "\t neither &         & 2348    & 1      \\\\\n",
       "\t neither & Python  &  196    & 2      \\\\\n",
       "\\end{tabular}\n"
      ],
      "text/markdown": [
       "\n",
       "| language_preference | LanguageRecommendationSelect | count | row |\n",
       "|---|---|---|---|\n",
       "| Both    | Python  | 1917    | 1       |\n",
       "| Both    | R       |  912    | 2       |\n",
       "| Both    |         |  591    | 3       |\n",
       "| Both    | SQL     |  108    | 4       |\n",
       "| neither |         | 2348    | 1       |\n",
       "| neither | Python  |  196    | 2       |\n",
       "\n"
      ],
      "text/plain": [
       "  language_preference LanguageRecommendationSelect count row\n",
       "1 Both                Python                       1917  1  \n",
       "2 Both                R                             912  2  \n",
       "3 Both                                              591  3  \n",
       "4 Both                SQL                           108  4  \n",
       "5 neither                                          2348  1  \n",
       "6 neither             Python                        196  2  "
      ]
     },
     "metadata": {},
     "output_type": "display_data"
    }
   ],
   "source": [
    "recommendations <- debate_tools %>%\n",
    "group_by(language_preference , LanguageRecommendationSelect) %>%\n",
    "summarise(count=n()) %>%\n",
    "arrange(language_preference,desc(count)) %>%\n",
    "mutate(row = row_number()) %>% \n",
    "filter(row <= 4)\n",
    "head(recommendations)"
   ]
  },
  {
   "cell_type": "markdown",
   "id": "53d08ce3",
   "metadata": {},
   "source": [
    "#### 7.Most Recommended language by preferred language <a class=\"anchor\" id=\"section_4_7\">"
   ]
  },
  {
   "cell_type": "code",
   "execution_count": 35,
   "id": "b4d8fbfb",
   "metadata": {},
   "outputs": [
    {
     "data": {
      "image/png": "[encoded data removed]",
      "text/plain": [
       "plot without title"
      ]
     },
     "metadata": {
      "image/png": {
       "height": 420,
       "width": 420
      }
     },
     "output_type": "display_data"
    }
   ],
   "source": [
    "ggplot(recommendations,aes(x=LanguageRecommendationSelect,y=count)) + \n",
    "geom_bar(stat = \"identity\") + \n",
    "facet_wrap(~language_preference) "
   ]
  },
  {
   "cell_type": "markdown",
   "id": "54d7a358",
   "metadata": {},
   "source": [
    "As we can see from the figure above , Python users highly recommend that new learners learn python. The same happens with R users they highly recommend R to new learners. However, programmers that use both languages tend to recommend Python to new learners."
   ]
  },
  {
   "cell_type": "markdown",
   "id": "60e7cb0d",
   "metadata": {},
   "source": [
    "#### 8. Number of survey respondents by Employer Industry <a class=\"anchor\" id=\"section_4_8\">"
   ]
  },
  {
   "cell_type": "code",
   "execution_count": 38,
   "id": "c5cbbcf2",
   "metadata": {},
   "outputs": [
    {
     "data": {
      "text/html": [
       "<table>\n",
       "<thead><tr><th scope=col>EmployerIndustry</th><th scope=col>count</th></tr></thead>\n",
       "<tbody>\n",
       "\t<tr><td>Technology                      </td><td>1839                            </td></tr>\n",
       "\t<tr><td>Academic                        </td><td>1450                            </td></tr>\n",
       "\t<tr><td>                                </td><td>1155                            </td></tr>\n",
       "\t<tr><td>Financial                       </td><td> 965                            </td></tr>\n",
       "\t<tr><td>Mix of fields                   </td><td> 825                            </td></tr>\n",
       "\t<tr><td>Other                           </td><td> 808                            </td></tr>\n",
       "\t<tr><td>Internet-based                  </td><td> 633                            </td></tr>\n",
       "\t<tr><td>Government                      </td><td> 474                            </td></tr>\n",
       "\t<tr><td>CRM/Marketing                   </td><td> 343                            </td></tr>\n",
       "\t<tr><td>Telecommunications              </td><td> 308                            </td></tr>\n",
       "\t<tr><td>Manufacturing                   </td><td> 293                            </td></tr>\n",
       "\t<tr><td>Insurance                       </td><td> 266                            </td></tr>\n",
       "\t<tr><td>Retail                          </td><td> 256                            </td></tr>\n",
       "\t<tr><td>Pharmaceutical                  </td><td> 161                            </td></tr>\n",
       "\t<tr><td>Non-profit                      </td><td> 140                            </td></tr>\n",
       "\t<tr><td>Hospitality/Entertainment/Sports</td><td> 124                            </td></tr>\n",
       "\t<tr><td>Military/Security               </td><td> 113                            </td></tr>\n",
       "</tbody>\n",
       "</table>\n"
      ],
      "text/latex": [
       "\\begin{tabular}{r|ll}\n",
       " EmployerIndustry & count\\\\\n",
       "\\hline\n",
       "\t Technology                       & 1839                            \\\\\n",
       "\t Academic                         & 1450                            \\\\\n",
       "\t                                  & 1155                            \\\\\n",
       "\t Financial                        &  965                            \\\\\n",
       "\t Mix of fields                    &  825                            \\\\\n",
       "\t Other                            &  808                            \\\\\n",
       "\t Internet-based                   &  633                            \\\\\n",
       "\t Government                       &  474                            \\\\\n",
       "\t CRM/Marketing                    &  343                            \\\\\n",
       "\t Telecommunications               &  308                            \\\\\n",
       "\t Manufacturing                    &  293                            \\\\\n",
       "\t Insurance                        &  266                            \\\\\n",
       "\t Retail                           &  256                            \\\\\n",
       "\t Pharmaceutical                   &  161                            \\\\\n",
       "\t Non-profit                       &  140                            \\\\\n",
       "\t Hospitality/Entertainment/Sports &  124                            \\\\\n",
       "\t Military/Security                &  113                            \\\\\n",
       "\\end{tabular}\n"
      ],
      "text/markdown": [
       "\n",
       "| EmployerIndustry | count |\n",
       "|---|---|\n",
       "| Technology                       | 1839                             |\n",
       "| Academic                         | 1450                             |\n",
       "|                                  | 1155                             |\n",
       "| Financial                        |  965                             |\n",
       "| Mix of fields                    |  825                             |\n",
       "| Other                            |  808                             |\n",
       "| Internet-based                   |  633                             |\n",
       "| Government                       |  474                             |\n",
       "| CRM/Marketing                    |  343                             |\n",
       "| Telecommunications               |  308                             |\n",
       "| Manufacturing                    |  293                             |\n",
       "| Insurance                        |  266                             |\n",
       "| Retail                           |  256                             |\n",
       "| Pharmaceutical                   |  161                             |\n",
       "| Non-profit                       |  140                             |\n",
       "| Hospitality/Entertainment/Sports |  124                             |\n",
       "| Military/Security                |  113                             |\n",
       "\n"
      ],
      "text/plain": [
       "   EmployerIndustry                 count\n",
       "1  Technology                       1839 \n",
       "2  Academic                         1450 \n",
       "3                                   1155 \n",
       "4  Financial                         965 \n",
       "5  Mix of fields                     825 \n",
       "6  Other                             808 \n",
       "7  Internet-based                    633 \n",
       "8  Government                        474 \n",
       "9  CRM/Marketing                     343 \n",
       "10 Telecommunications                308 \n",
       "11 Manufacturing                     293 \n",
       "12 Insurance                         266 \n",
       "13 Retail                            256 \n",
       "14 Pharmaceutical                    161 \n",
       "15 Non-profit                        140 \n",
       "16 Hospitality/Entertainment/Sports  124 \n",
       "17 Military/Security                 113 "
      ]
     },
     "metadata": {},
     "output_type": "display_data"
    }
   ],
   "source": [
    "responses %>%\n",
    "group_by(EmployerIndustry) %>%\n",
    "summarise(count=n()) %>%\n",
    "arrange(desc(count))"
   ]
  },
  {
   "cell_type": "markdown",
   "id": "11dce709",
   "metadata": {},
   "source": [
    "Most of the survey respondents work in the Technology industry followed by the Academic industry."
   ]
  },
  {
   "cell_type": "markdown",
   "id": "52a75137",
   "metadata": {},
   "source": [
    "#### 9.Top 5 used Algorithms <a class=\"anchor\" id=\"section_4_9\">"
   ]
  },
  {
   "cell_type": "code",
   "execution_count": 64,
   "id": "5de7c719",
   "metadata": {},
   "outputs": [],
   "source": [
    "Algorithms <- debate_tools %>% \n",
    "mutate(algorithm = str_split(WorkAlgorithmsSelect,\",\")) %>% \n",
    "unnest(algorithm)"
   ]
  },
  {
   "cell_type": "code",
   "execution_count": 73,
   "id": "c98a4c6c",
   "metadata": {},
   "outputs": [
    {
     "data": {
      "text/html": [
       "<table>\n",
       "<thead><tr><th scope=col>algorithm</th><th scope=col>count</th></tr></thead>\n",
       "<tbody>\n",
       "\t<tr><td>Regression/Logistic Regression</td><td>4636                          </td></tr>\n",
       "\t<tr><td>Decision Trees                </td><td>3640                          </td></tr>\n",
       "\t<tr><td>Random Forests                </td><td>3378                          </td></tr>\n",
       "\t<tr><td>                              </td><td>2852                          </td></tr>\n",
       "\t<tr><td>Neural Networks               </td><td>2743                          </td></tr>\n",
       "</tbody>\n",
       "</table>\n"
      ],
      "text/latex": [
       "\\begin{tabular}{r|ll}\n",
       " algorithm & count\\\\\n",
       "\\hline\n",
       "\t Regression/Logistic Regression & 4636                          \\\\\n",
       "\t Decision Trees                 & 3640                          \\\\\n",
       "\t Random Forests                 & 3378                          \\\\\n",
       "\t                                & 2852                          \\\\\n",
       "\t Neural Networks                & 2743                          \\\\\n",
       "\\end{tabular}\n"
      ],
      "text/markdown": [
       "\n",
       "| algorithm | count |\n",
       "|---|---|\n",
       "| Regression/Logistic Regression | 4636                           |\n",
       "| Decision Trees                 | 3640                           |\n",
       "| Random Forests                 | 3378                           |\n",
       "|                                | 2852                           |\n",
       "| Neural Networks                | 2743                           |\n",
       "\n"
      ],
      "text/plain": [
       "  algorithm                      count\n",
       "1 Regression/Logistic Regression 4636 \n",
       "2 Decision Trees                 3640 \n",
       "3 Random Forests                 3378 \n",
       "4                                2852 \n",
       "5 Neural Networks                2743 "
      ]
     },
     "metadata": {},
     "output_type": "display_data"
    }
   ],
   "source": [
    "Algorithms %>%\n",
    "group_by(algorithm) %>%\n",
    "summarise(count=n()) %>%\n",
    "arrange(desc(count)) %>%\n",
    "head(5)"
   ]
  },
  {
   "cell_type": "markdown",
   "id": "08c345d9",
   "metadata": {},
   "source": [
    "#### 10.Top 5 used Algorithms by R lovers <a class=\"anchor\" id=\"section_4_10\">"
   ]
  },
  {
   "cell_type": "code",
   "execution_count": 74,
   "id": "56acdf41",
   "metadata": {},
   "outputs": [
    {
     "data": {
      "text/html": [
       "<table>\n",
       "<thead><tr><th scope=col>algorithm</th><th scope=col>count</th></tr></thead>\n",
       "<tbody>\n",
       "\t<tr><td>Regression/Logistic Regression</td><td>786                           </td></tr>\n",
       "\t<tr><td>Decision Trees                </td><td>590                           </td></tr>\n",
       "\t<tr><td>Random Forests                </td><td>447                           </td></tr>\n",
       "\t<tr><td>Bayesian Techniques           </td><td>289                           </td></tr>\n",
       "\t<tr><td>Neural Networks               </td><td>229                           </td></tr>\n",
       "</tbody>\n",
       "</table>\n"
      ],
      "text/latex": [
       "\\begin{tabular}{r|ll}\n",
       " algorithm & count\\\\\n",
       "\\hline\n",
       "\t Regression/Logistic Regression & 786                           \\\\\n",
       "\t Decision Trees                 & 590                           \\\\\n",
       "\t Random Forests                 & 447                           \\\\\n",
       "\t Bayesian Techniques            & 289                           \\\\\n",
       "\t Neural Networks                & 229                           \\\\\n",
       "\\end{tabular}\n"
      ],
      "text/markdown": [
       "\n",
       "| algorithm | count |\n",
       "|---|---|\n",
       "| Regression/Logistic Regression | 786                            |\n",
       "| Decision Trees                 | 590                            |\n",
       "| Random Forests                 | 447                            |\n",
       "| Bayesian Techniques            | 289                            |\n",
       "| Neural Networks                | 229                            |\n",
       "\n"
      ],
      "text/plain": [
       "  algorithm                      count\n",
       "1 Regression/Logistic Regression 786  \n",
       "2 Decision Trees                 590  \n",
       "3 Random Forests                 447  \n",
       "4 Bayesian Techniques            289  \n",
       "5 Neural Networks                229  "
      ]
     },
     "metadata": {},
     "output_type": "display_data"
    }
   ],
   "source": [
    "# which algorithm does R lovers use the most \n",
    "Algorithms %>%\n",
    "filter(language_preference == \"R\") %>%\n",
    "group_by(algorithm) %>%\n",
    "summarise(count=n()) %>% \n",
    "arrange(desc(count)) %>%\n",
    "head(5)"
   ]
  },
  {
   "cell_type": "markdown",
   "id": "8c961336",
   "metadata": {},
   "source": [
    "#### 11.Top 5 used Algorithms by Python lovers <a class=\"anchor\" id=\"section_4_11\">\n"
   ]
  },
  {
   "cell_type": "code",
   "execution_count": 67,
   "id": "429a6d81",
   "metadata": {},
   "outputs": [
    {
     "data": {
      "text/html": [
       "<table>\n",
       "<thead><tr><th scope=col>algorithm</th><th scope=col>count</th></tr></thead>\n",
       "<tbody>\n",
       "\t<tr><td>Regression/Logistic Regression</td><td>1108                          </td></tr>\n",
       "\t<tr><td>Neural Networks               </td><td>1057                          </td></tr>\n",
       "\t<tr><td>Decision Trees                </td><td> 824                          </td></tr>\n",
       "\t<tr><td>Random Forests                </td><td> 814                          </td></tr>\n",
       "\t<tr><td>CNNs                          </td><td> 684                          </td></tr>\n",
       "</tbody>\n",
       "</table>\n"
      ],
      "text/latex": [
       "\\begin{tabular}{r|ll}\n",
       " algorithm & count\\\\\n",
       "\\hline\n",
       "\t Regression/Logistic Regression & 1108                          \\\\\n",
       "\t Neural Networks                & 1057                          \\\\\n",
       "\t Decision Trees                 &  824                          \\\\\n",
       "\t Random Forests                 &  814                          \\\\\n",
       "\t CNNs                           &  684                          \\\\\n",
       "\\end{tabular}\n"
      ],
      "text/markdown": [
       "\n",
       "| algorithm | count |\n",
       "|---|---|\n",
       "| Regression/Logistic Regression | 1108                           |\n",
       "| Neural Networks                | 1057                           |\n",
       "| Decision Trees                 |  824                           |\n",
       "| Random Forests                 |  814                           |\n",
       "| CNNs                           |  684                           |\n",
       "\n"
      ],
      "text/plain": [
       "  algorithm                      count\n",
       "1 Regression/Logistic Regression 1108 \n",
       "2 Neural Networks                1057 \n",
       "3 Decision Trees                  824 \n",
       "4 Random Forests                  814 \n",
       "5 CNNs                            684 "
      ]
     },
     "metadata": {},
     "output_type": "display_data"
    }
   ],
   "source": [
    "# which algorithm does Python lovers use the most \n",
    "Algorithms %>%\n",
    "filter(language_preference == \"Python\") %>%\n",
    "group_by(algorithm) %>%\n",
    "summarise(count=n()) %>% \n",
    "arrange(desc(count)) %>%\n",
    "head(5)"
   ]
  },
  {
   "cell_type": "markdown",
   "id": "efe4012b",
   "metadata": {},
   "source": [
    "It seems that Both R lovers and python lovers mostly  use the Regression Algorithm in their machine learning projects."
   ]
  }
 ],
 "metadata": {
  "kernelspec": {
   "display_name": "R",
   "language": "R",
   "name": "ir"
  },
  "language_info": {
   "codemirror_mode": "r",
   "file_extension": ".r",
   "mimetype": "text/x-r-source",
   "name": "R",
   "pygments_lexer": "r",
   "version": "3.6.1"
  }
 },
 "nbformat": 4,
 "nbformat_minor": 5
}
